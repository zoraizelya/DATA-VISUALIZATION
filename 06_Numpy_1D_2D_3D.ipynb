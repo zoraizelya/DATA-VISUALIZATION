{
 "cells": [
  {
   "cell_type": "markdown",
   "id": "b79d0c5a",
   "metadata": {},
   "source": [
    "---\n",
    "# import numpy\n",
    "## 1D 2D 3D"
   ]
  },
  {
   "cell_type": "code",
   "execution_count": 1,
   "id": "c000c404",
   "metadata": {},
   "outputs": [],
   "source": [
    "import numpy as np # numerical python"
   ]
  },
  {
   "cell_type": "markdown",
   "id": "bf85abe1",
   "metadata": {},
   "source": [
    "---\n",
    "# 1D"
   ]
  },
  {
   "cell_type": "code",
   "execution_count": 2,
   "id": "135a2b54",
   "metadata": {
    "scrolled": false
   },
   "outputs": [
    {
     "name": "stdout",
     "output_type": "stream",
     "text": [
      "1D Arrays\n",
      "[1 2 3]\n",
      "<class 'numpy.ndarray'>\n",
      "Zeros\n",
      "[0. 0.]\n",
      "Ones\n",
      "[1. 1. 1. 1. 1.]\n",
      "Empty\n",
      "5\n",
      "[1. 1. 1. 1. 1.]\n",
      "Range elements\n",
      "[0 1 2 3 4]\n",
      "spesific range\n",
      "[ 2  3  4  5  6  7  8  9 10 11 12 13 14 15 16 17 18 19]\n",
      "[ 2  4  6  8 10 12 14 16 18]\n",
      "line Spaced Array\n",
      "[ 0.   2.5  5.   7.5 10. ]\n",
      "Specific data types in array\n",
      "[1 1 1 1 1]\n",
      "[1. 1. 1. 1. 1.]\n"
     ]
    },
    {
     "data": {
      "text/plain": [
       "20.0"
      ]
     },
     "execution_count": 2,
     "metadata": {},
     "output_type": "execute_result"
    }
   ],
   "source": [
    "\n",
    "print(\"1D Arrays\")\n",
    "a = np.array([1,2,3,])\n",
    "print(a)\n",
    "print(type(a))\n",
    "\n",
    "print(\"Zeros\")\n",
    "c = np.zeros(2)\n",
    "print(c)\n",
    "\n",
    "print(\"Ones\")\n",
    "d = np.ones(5)\n",
    "print(d)\n",
    "\n",
    "print(\"Empty\")\n",
    "e = np.empty(5)\n",
    "print(len(e)) # length of the array i.e e\n",
    "print(e)\n",
    "\n",
    "print(\"Range elements\")\n",
    "f = np.arange(5)\n",
    "print(f)\n",
    "\n",
    "print(\"spesific range\")\n",
    "g = np.arange(2,20)\n",
    "print(g)\n",
    "\n",
    "h = np.arange(2,20,2)# means between 2 - 20 but with difference of 2\n",
    "print(h)\n",
    "\n",
    "print(\"line Spaced Array\")\n",
    "i = np.linspace(0,10,num=5)#num=5 mean there will be 5 numbers between 0 - 10\n",
    "print(i)\n",
    "\n",
    "\n",
    "print(\"Specific data types in array\")\n",
    "j = np.ones(5,dtype=np.int8)\n",
    "print(j)\n",
    "\n",
    "k = np.ones(5,dtype=np.float64)\n",
    "print(k)\n",
    "\n",
    "\n",
    "price = np.array([10,20,30])\n",
    "price\n",
    "\n",
    "price[0] # on index [0] = 10\n",
    "price.mean()\n"
   ]
  },
  {
   "cell_type": "markdown",
   "id": "e6e53a18",
   "metadata": {},
   "source": [
    "---\n",
    "# 2D"
   ]
  },
  {
   "cell_type": "code",
   "execution_count": 3,
   "id": "593a686a",
   "metadata": {},
   "outputs": [
    {
     "name": "stdout",
     "output_type": "stream",
     "text": [
      "2D Arrays\n",
      "[[0. 0. 0. 0.]\n",
      " [0. 0. 0. 0.]]\n",
      "[[1. 1. 1. 1. 1.]\n",
      " [1. 1. 1. 1. 1.]]\n",
      "[[6.23042070e-307 3.56043053e-307 1.37961641e-306 8.90071135e-308]\n",
      " [8.01097889e-307 1.78020169e-306 7.56601165e-307 1.02359984e-306]\n",
      " [1.33510679e-306 2.22522597e-306 1.78019082e-306 1.24612285e-306]]\n"
     ]
    }
   ],
   "source": [
    "\n",
    "print(\"2D Arrays\")\n",
    "\n",
    "l = np.zeros((2,4))\n",
    "print(l)\n",
    "m = np.ones((2,5))\n",
    "print(m)\n",
    "n = np.empty((3,4))\n",
    "print(n)\n",
    "\n"
   ]
  },
  {
   "cell_type": "code",
   "execution_count": 4,
   "id": "0e69b995",
   "metadata": {
    "scrolled": true
   },
   "outputs": [
    {
     "data": {
      "text/plain": [
       "array([[1, 2],\n",
       "       [3, 4]])"
      ]
     },
     "execution_count": 4,
     "metadata": {},
     "output_type": "execute_result"
    }
   ],
   "source": [
    "arr = np.array([[1,2],[3,4]])\n",
    "arr"
   ]
  },
  {
   "cell_type": "code",
   "execution_count": 5,
   "id": "032598d2",
   "metadata": {},
   "outputs": [
    {
     "data": {
      "text/plain": [
       "array([[5, 6],\n",
       "       [7, 8]])"
      ]
     },
     "execution_count": 5,
     "metadata": {},
     "output_type": "execute_result"
    }
   ],
   "source": [
    "arr2 = np.array([[5,6],[7,8]])\n",
    "arr2"
   ]
  },
  {
   "cell_type": "code",
   "execution_count": 6,
   "id": "57e165ca",
   "metadata": {
    "scrolled": true
   },
   "outputs": [
    {
     "data": {
      "text/plain": [
       "array([[1, 2],\n",
       "       [3, 4],\n",
       "       [5, 6],\n",
       "       [7, 8]])"
      ]
     },
     "execution_count": 6,
     "metadata": {},
     "output_type": "execute_result"
    }
   ],
   "source": [
    "# concatenate \n",
    "np.concatenate((arr,arr2), axis=0) # 0 for y-axis"
   ]
  },
  {
   "cell_type": "code",
   "execution_count": 7,
   "id": "3331bf93",
   "metadata": {},
   "outputs": [
    {
     "data": {
      "text/plain": [
       "array([[1, 2, 5, 6],\n",
       "       [3, 4, 7, 8]])"
      ]
     },
     "execution_count": 7,
     "metadata": {},
     "output_type": "execute_result"
    }
   ],
   "source": [
    "np.concatenate((arr,arr2), axis=1) # 1 for x-axis"
   ]
  },
  {
   "cell_type": "markdown",
   "id": "89d78c20",
   "metadata": {},
   "source": [
    "---\n",
    "# 3D"
   ]
  },
  {
   "cell_type": "code",
   "execution_count": 8,
   "id": "dcc0dd77",
   "metadata": {
    "scrolled": true
   },
   "outputs": [
    {
     "name": "stdout",
     "output_type": "stream",
     "text": [
      "3D Arrays\n",
      "[[[ 0  1  2  3]\n",
      "  [ 4  5  6  7]\n",
      "  [ 8  9 10 11]]\n",
      "\n",
      " [[12 13 14 15]\n",
      "  [16 17 18 19]\n",
      "  [20 21 22 23]]]\n"
     ]
    }
   ],
   "source": [
    "\n",
    "print(\"3D Arrays\")\n",
    "o = np.arange(24).reshape(2,3,4)\n",
    "print(o)"
   ]
  },
  {
   "cell_type": "code",
   "execution_count": 9,
   "id": "8fb969a4",
   "metadata": {
    "scrolled": true
   },
   "outputs": [
    {
     "data": {
      "text/plain": [
       "array([[[ 1,  2],\n",
       "        [ 3,  4]],\n",
       "\n",
       "       [[ 5,  6],\n",
       "        [ 7,  8]],\n",
       "\n",
       "       [[ 9, 10],\n",
       "        [11, 12]]])"
      ]
     },
     "execution_count": 9,
     "metadata": {},
     "output_type": "execute_result"
    }
   ],
   "source": [
    "ar3d = np.array([[[1,2],[3,4]],[[5,6],[7,8]],[[9,10],[11,12]]])\n",
    "ar3d"
   ]
  },
  {
   "cell_type": "code",
   "execution_count": 10,
   "id": "ce2f45b1",
   "metadata": {
    "scrolled": true
   },
   "outputs": [
    {
     "data": {
      "text/plain": [
       "3"
      ]
     },
     "execution_count": 10,
     "metadata": {},
     "output_type": "execute_result"
    }
   ],
   "source": [
    "ar3d.ndim # to find dimension"
   ]
  },
  {
   "cell_type": "code",
   "execution_count": 11,
   "id": "e01dcdfa",
   "metadata": {},
   "outputs": [
    {
     "data": {
      "text/plain": [
       "12"
      ]
     },
     "execution_count": 11,
     "metadata": {},
     "output_type": "execute_result"
    }
   ],
   "source": [
    "# to find size of array\n",
    "ar3d.size"
   ]
  },
  {
   "cell_type": "code",
   "execution_count": 12,
   "id": "57d8da8c",
   "metadata": {
    "scrolled": true
   },
   "outputs": [
    {
     "data": {
      "text/plain": [
       "(3, 2, 2)"
      ]
     },
     "execution_count": 12,
     "metadata": {},
     "output_type": "execute_result"
    }
   ],
   "source": [
    "# to find shape\n",
    "ar3d.shape"
   ]
  },
  {
   "cell_type": "code",
   "execution_count": 13,
   "id": "15d2f048",
   "metadata": {},
   "outputs": [
    {
     "data": {
      "text/plain": [
       "array([[ 1,  2,  3,  4],\n",
       "       [ 5,  6,  7,  8],\n",
       "       [ 9, 10, 11, 12]])"
      ]
     },
     "execution_count": 13,
     "metadata": {},
     "output_type": "execute_result"
    }
   ],
   "source": [
    "#reshape an array\n",
    "ar3d.reshape(3,4) # as we now size = 12 so we can do something like 3*4 means 3 rows & 4 columns"
   ]
  },
  {
   "cell_type": "markdown",
   "id": "29720f54",
   "metadata": {},
   "source": [
    "---\n",
    "# Array Functions"
   ]
  },
  {
   "cell_type": "code",
   "execution_count": 14,
   "id": "22a1e550",
   "metadata": {
    "scrolled": false
   },
   "outputs": [
    {
     "data": {
      "text/plain": [
       "array([ 10. ,  12. ,  15. ,   2. ,   4. ,   6. , 100. , 320. ,   0.5,\n",
       "        10.3])"
      ]
     },
     "execution_count": 14,
     "metadata": {},
     "output_type": "execute_result"
    }
   ],
   "source": [
    "Array = np.array([10,12,15,2,4,6,100,320,0.5,10.3])\n",
    "Array\n",
    "    "
   ]
  },
  {
   "cell_type": "code",
   "execution_count": 15,
   "id": "06e8b865",
   "metadata": {
    "scrolled": true
   },
   "outputs": [
    {
     "data": {
      "text/plain": [
       "array([  0.5,   2. ,   4. ,   6. ,  10. ,  10.3,  12. ,  15. , 100. ,\n",
       "       320. ])"
      ]
     },
     "execution_count": 15,
     "metadata": {},
     "output_type": "execute_result"
    }
   ],
   "source": [
    "# sorting an array\n",
    "Array.sort()\n",
    "Array"
   ]
  },
  {
   "cell_type": "code",
   "execution_count": 16,
   "id": "6efaf0bd",
   "metadata": {
    "scrolled": true
   },
   "outputs": [
    {
     "data": {
      "text/plain": [
       "array([21.9, 32.6, 43.6, 42.6])"
      ]
     },
     "execution_count": 16,
     "metadata": {},
     "output_type": "execute_result"
    }
   ],
   "source": [
    "Array2 = np.array([21.9,32.6,43.6,42.6])\n",
    "Array2"
   ]
  },
  {
   "cell_type": "code",
   "execution_count": 17,
   "id": "1b1dcf48",
   "metadata": {
    "scrolled": false
   },
   "outputs": [
    {
     "data": {
      "text/plain": [
       "array([  0.5,   2. ,   4. ,   6. ,  10. ,  10.3,  12. ,  15. , 100. ,\n",
       "       320. ,  21.9,  32.6,  43.6,  42.6])"
      ]
     },
     "execution_count": 17,
     "metadata": {},
     "output_type": "execute_result"
    }
   ],
   "source": [
    "# concatenate\n",
    "Array3 = np.concatenate((Array,Array2))\n",
    "Array3"
   ]
  },
  {
   "cell_type": "code",
   "execution_count": 18,
   "id": "51294e52",
   "metadata": {
    "scrolled": true
   },
   "outputs": [
    {
     "data": {
      "text/plain": [
       "array([  0.5,   2. ,   4. ,   6. ,  10. ,  10.3,  12. ,  15. ,  21.9,\n",
       "        32.6,  42.6,  43.6, 100. , 320. ])"
      ]
     },
     "execution_count": 18,
     "metadata": {},
     "output_type": "execute_result"
    }
   ],
   "source": [
    "Array3.sort()\n",
    "Array3"
   ]
  },
  {
   "cell_type": "markdown",
   "id": "e1e269d3",
   "metadata": {},
   "source": [
    "---\n",
    "# Converting    1D - 2D"
   ]
  },
  {
   "cell_type": "code",
   "execution_count": 19,
   "id": "19274175",
   "metadata": {},
   "outputs": [
    {
     "data": {
      "text/plain": [
       "array([1, 2, 3])"
      ]
     },
     "execution_count": 19,
     "metadata": {},
     "output_type": "execute_result"
    }
   ],
   "source": [
    "a = np.array([1,2,3,])\n",
    "a"
   ]
  },
  {
   "cell_type": "code",
   "execution_count": 20,
   "id": "a61ab21d",
   "metadata": {
    "scrolled": true
   },
   "outputs": [
    {
     "data": {
      "text/plain": [
       "array([[1, 2, 3]])"
      ]
     },
     "execution_count": 20,
     "metadata": {},
     "output_type": "execute_result"
    }
   ],
   "source": [
    "# row wise conversion\n",
    "b=a[np.newaxis,:]\n",
    "b"
   ]
  },
  {
   "cell_type": "code",
   "execution_count": 21,
   "id": "592427db",
   "metadata": {
    "scrolled": true
   },
   "outputs": [
    {
     "data": {
      "text/plain": [
       "array([[1],\n",
       "       [2],\n",
       "       [3]])"
      ]
     },
     "execution_count": 21,
     "metadata": {},
     "output_type": "execute_result"
    }
   ],
   "source": [
    "# column wise conversion\n",
    "c=a[:,np.newaxis]\n",
    "c"
   ]
  },
  {
   "cell_type": "code",
   "execution_count": 22,
   "id": "75e6f031",
   "metadata": {
    "scrolled": true
   },
   "outputs": [
    {
     "data": {
      "text/plain": [
       "array([2])"
      ]
     },
     "execution_count": 22,
     "metadata": {},
     "output_type": "execute_result"
    }
   ],
   "source": [
    "# indexing\n",
    "a[1:2] # from index [1] - index [2]"
   ]
  },
  {
   "cell_type": "code",
   "execution_count": 23,
   "id": "54521130",
   "metadata": {},
   "outputs": [
    {
     "data": {
      "text/plain": [
       "6"
      ]
     },
     "execution_count": 23,
     "metadata": {},
     "output_type": "execute_result"
    }
   ],
   "source": [
    "a.sum() # will sum all numbers"
   ]
  },
  {
   "cell_type": "code",
   "execution_count": 24,
   "id": "d20a8c40",
   "metadata": {},
   "outputs": [
    {
     "data": {
      "text/plain": [
       "2.0"
      ]
     },
     "execution_count": 24,
     "metadata": {},
     "output_type": "execute_result"
    }
   ],
   "source": [
    "a.mean() # will find you mean"
   ]
  },
  {
   "cell_type": "code",
   "execution_count": 25,
   "id": "e17d9e69",
   "metadata": {},
   "outputs": [
    {
     "data": {
      "text/plain": [
       "array([7, 8, 9])"
      ]
     },
     "execution_count": 25,
     "metadata": {},
     "output_type": "execute_result"
    }
   ],
   "source": [
    "a+6 # will add 6 to each integer"
   ]
  },
  {
   "cell_type": "code",
   "execution_count": 26,
   "id": "526cfef2",
   "metadata": {},
   "outputs": [
    {
     "data": {
      "text/plain": [
       "array([ 6, 12, 18])"
      ]
     },
     "execution_count": 26,
     "metadata": {},
     "output_type": "execute_result"
    }
   ],
   "source": [
    "a*6 # will multiply 6 to each integer"
   ]
  }
 ],
 "metadata": {
  "kernelspec": {
   "display_name": "Python 3.10.4 64-bit",
   "language": "python",
   "name": "python3"
  },
  "language_info": {
   "codemirror_mode": {
    "name": "ipython",
    "version": 3
   },
   "file_extension": ".py",
   "mimetype": "text/x-python",
   "name": "python",
   "nbconvert_exporter": "python",
   "pygments_lexer": "ipython3",
   "version": "3.10.4"
  },
  "vscode": {
   "interpreter": {
    "hash": "369f2c481f4da34e4445cda3fffd2e751bd1c4d706f27375911949ba6bb62e1c"
   }
  }
 },
 "nbformat": 4,
 "nbformat_minor": 5
}
